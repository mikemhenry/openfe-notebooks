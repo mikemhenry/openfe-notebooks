{
 "cells": [
  {
   "cell_type": "code",
   "execution_count": null,
   "id": "c2498f70-237d-4daf-823e-b6bfb050399d",
   "metadata": {},
   "outputs": [],
   "source": [
    "# Use the OpenFF Toolkit to generate a minimal chemical topology\n",
    "from openff.toolkit.topology import Molecule\n",
    "\n",
    "molecule = Molecule.from_smiles(\"CCO\")\n",
    "molecule.generate_conformers(n_conformers=1)\n",
    "topology = molecule.to_topology()"
   ]
  },
  {
   "cell_type": "code",
   "execution_count": null,
   "id": "dc72129a-aea3-43d9-983f-1b56a51e5d74",
   "metadata": {},
   "outputs": [],
   "source": [
    "# Load OpenFF 2.0.0 \"Sage\"\n",
    "from openff.toolkit.typing.engines.smirnoff import ForceField\n",
    "\n",
    "sage = ForceField(\"openff-2.0.0.offxml\")"
   ]
  },
  {
   "cell_type": "code",
   "execution_count": null,
   "id": "824c403a-aa44-4550-8113-bb06d208f4fb",
   "metadata": {},
   "outputs": [],
   "source": [
    "# Create an Interchange object\n",
    "from openff.interchange.components.interchange import Interchange\n",
    "\n",
    "out = Interchange.from_smirnoff(force_field=sage, topology=topology)"
   ]
  },
  {
   "cell_type": "code",
   "execution_count": null,
   "id": "48f63921-8e15-4173-8b1d-cbb58a331bf5",
   "metadata": {},
   "outputs": [],
   "source": [
    "# Define box vectors and assign atomic positions\n",
    "import numpy as np\n",
    "\n",
    "out.box = [4, 4, 4] * np.eye(3)\n",
    "out.positions = molecule.conformers[0]"
   ]
  },
  {
   "cell_type": "code",
   "execution_count": null,
   "id": "92e8a037-efb8-4230-8ab4-3893582e09bf",
   "metadata": {},
   "outputs": [],
   "source": [
    "# Convert the Interchnage object to an OpenMM System\n",
    "omm_sys = out.to_openmm(combine_nonbonded_forces=True)"
   ]
  },
  {
   "cell_type": "code",
   "execution_count": null,
   "id": "3232afa9-d50c-4111-836f-72c72277e2b4",
   "metadata": {},
   "outputs": [],
   "source": [
    "# or write to GROMACS files\n",
    "out.to_gro(\"out.gro\")\n",
    "out.to_top(\"out.top\")"
   ]
  }
 ],
 "metadata": {
  "kernelspec": {
   "display_name": "Python 3 (ipykernel)",
   "language": "python",
   "name": "python3"
  },
  "language_info": {
   "codemirror_mode": {
    "name": "ipython",
    "version": 3
   },
   "file_extension": ".py",
   "mimetype": "text/x-python",
   "name": "python",
   "nbconvert_exporter": "python",
   "pygments_lexer": "ipython3",
   "version": "3.10.0"
  }
 },
 "nbformat": 4,
 "nbformat_minor": 5
}
